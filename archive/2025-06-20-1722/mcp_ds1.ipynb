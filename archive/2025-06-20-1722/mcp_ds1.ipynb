{
 "cells": [
  {
   "cell_type": "code",
   "execution_count": 1,
   "metadata": {},
   "outputs": [],
   "source": [
    "import asyncio\n",
    "\n",
    "HOST = '127.0.0.1'\n",
    "PORT = 1234\n",
    "\n",
    "async def send_mcp_message(writer, package, content):\n",
    "    message = f\"#$#{package} {content}\\n\"\n",
    "    writer.write(message.encode())\n",
    "    await writer.drain()\n",
    "\n",
    "async def mcp_client(oil_data):\n",
    "    reader, writer = await asyncio.open_connection(HOST, PORT)\n",
    "\n",
    "    # Negotiate MCP\n",
    "    await send_mcp_message(writer, \"mcp\", \"version: 2.1 to: 2.1\")\n",
    "\n",
    "    # Pretend to authenticate (if your server supports it)\n",
    "    await send_mcp_message(writer, \"mcp-auth\", \"type: client id: test_client\")\n",
    "\n",
    "    # Send oil data\n",
    "    for entry in oil_data:\n",
    "        code = entry[\"code\"]\n",
    "        price = entry[\"price\"]\n",
    "        ts = entry[\"created_at\"]\n",
    "        await send_mcp_message(writer, \"oil-data\", f\":code={code} :price={price} :created_at={ts}\")\n",
    "\n",
    "    # Optionally close\n",
    "    writer.close()\n",
    "    await writer.wait_closed()\n"
   ]
  },
  {
   "cell_type": "code",
   "execution_count": null,
   "metadata": {},
   "outputs": [],
   "source": []
  },
  {
   "cell_type": "code",
   "execution_count": null,
   "metadata": {},
   "outputs": [],
   "source": []
  }
 ],
 "metadata": {
  "kernelspec": {
   "display_name": ".venv",
   "language": "python",
   "name": "python3"
  },
  "language_info": {
   "codemirror_mode": {
    "name": "ipython",
    "version": 3
   },
   "file_extension": ".py",
   "mimetype": "text/x-python",
   "name": "python",
   "nbconvert_exporter": "python",
   "pygments_lexer": "ipython3",
   "version": "3.10.10"
  }
 },
 "nbformat": 4,
 "nbformat_minor": 2
}
