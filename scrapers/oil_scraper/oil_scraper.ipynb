{
 "cells": [
  {
   "cell_type": "code",
   "execution_count": 1,
   "metadata": {},
   "outputs": [
    {
     "name": "stdout",
     "output_type": "stream",
     "text": [
      "Fetching WTI_USD…\n",
      "  Retrieved 100 records\n",
      "Fetching BRENT_CRUDE_USD…\n",
      "  Retrieved 100 records\n",
      "('BRENT_CRUDE_USD', '2024-06-19 05:34:13', 85.41)\n",
      "('WTI_USD', '2024-06-19 05:34:13', 81.43)\n",
      "('WTI_USD', '2024-06-19 05:33:42', 80.87)\n",
      "('WTI_USD', '2024-06-19 05:33:06', 81.76)\n",
      "('BRENT_CRUDE_USD', '2024-06-19 05:33:05', 85.42)\n"
     ]
    }
   ],
   "source": [
    "import requests\n",
    "import sqlite3\n",
    "import time\n",
    "from datetime import datetime\n",
    "\n",
    "API_TOKEN = \"113482992bb97eb41f34ca5cb227fe840631df5faa2eb4f11fc5deb6bfa078ef\"\n",
    "BASE_URL = \"https://api.oilpriceapi.com/v1/prices/past_year\"\n",
    "CODES = [\"WTI_USD\", \"BRENT_CRUDE_USD\"]  # WTI and Brent benchmarks\n",
    "\n",
    "def fetch_prices(code):\n",
    "    headers = {\"Authorization\": f\"Token {API_TOKEN}\"}\n",
    "    params = {\"by_code\": code}\n",
    "    resp = requests.get(BASE_URL, headers=headers, params=params)\n",
    "    resp.raise_for_status()\n",
    "    return resp.json()[\"data\"][\"prices\"]\n",
    "\n",
    "def init_db(db_path=\"oil_prices.db\"):\n",
    "    conn = sqlite3.connect(db_path)\n",
    "    c = conn.cursor()\n",
    "    c.execute(\"\"\"\n",
    "    CREATE TABLE IF NOT EXISTS oil_prices (\n",
    "        id INTEGER PRIMARY KEY,\n",
    "        code TEXT,\n",
    "        price REAL,\n",
    "        timestamp INTEGER,\n",
    "        created_at TEXT\n",
    "    )\"\"\")\n",
    "    conn.commit()\n",
    "    return conn\n",
    "\n",
    "def save_prices(conn, code, prices):\n",
    "    c = conn.cursor()\n",
    "    for entry in prices:\n",
    "        c.execute(\"\"\"\n",
    "        INSERT OR IGNORE INTO oil_prices (code, price, timestamp, created_at)\n",
    "        VALUES (?, ?, ?, ?)\n",
    "        \"\"\", (\n",
    "            code,\n",
    "            entry[\"price\"],\n",
    "            int(datetime.fromisoformat(entry[\"created_at\"].rstrip('Z')).timestamp()),\n",
    "            entry[\"created_at\"]\n",
    "        ))\n",
    "    conn.commit()\n",
    "\n",
    "def main():\n",
    "    conn = init_db()\n",
    "    for code in CODES:\n",
    "        print(f\"Fetching {code}…\")\n",
    "        data = fetch_prices(code)\n",
    "        print(f\"  Retrieved {len(data)} records\")\n",
    "        save_prices(conn, code, data)\n",
    "        time.sleep(1)  # avoid rate limits\n",
    "    \n",
    "    # Example query\n",
    "    cursor = conn.cursor()\n",
    "    cursor.execute(\"\"\"\n",
    "      SELECT code, datetime(timestamp, 'unixepoch') AS day, AVG(price)\n",
    "      FROM oil_prices\n",
    "      GROUP BY code, day\n",
    "      ORDER BY day DESC LIMIT 5\n",
    "    \"\"\")\n",
    "    for row in cursor.fetchall():\n",
    "        print(row)\n",
    "    conn.close()\n",
    "\n",
    "if __name__ == \"__main__\":\n",
    "    main()\n"
   ]
  },
  {
   "cell_type": "code",
   "execution_count": 2,
   "metadata": {},
   "outputs": [
    {
     "name": "stdout",
     "output_type": "stream",
     "text": [
      "   id     code  price   timestamp                created_at\n",
      "0   1  WTI_USD  81.37  1718771962  2024-06-18T23:39:22.722Z\n",
      "1   2  WTI_USD  81.26  1718772012  2024-06-18T23:40:12.733Z\n",
      "2   3  WTI_USD  80.78  1718772041  2024-06-18T23:40:41.528Z\n",
      "3   4  WTI_USD  80.78  1718772087  2024-06-18T23:41:27.705Z\n",
      "4   5  WTI_USD  80.78  1718772123  2024-06-18T23:42:03.334Z\n"
     ]
    }
   ],
   "source": [
    "import sqlite3\n",
    "import pandas as pd\n",
    "\n",
    "conn = sqlite3.connect(\"oil_prices.db\")\n",
    "\n",
    "# Load all data into a DataFrame\n",
    "df = pd.read_sql_query(\"SELECT * FROM oil_prices\", conn)\n",
    "\n",
    "print(df.head())\n",
    "conn.close()\n"
   ]
  },
  {
   "cell_type": "code",
   "execution_count": null,
   "metadata": {},
   "outputs": [],
   "source": []
  },
  {
   "cell_type": "code",
   "execution_count": null,
   "metadata": {},
   "outputs": [],
   "source": []
  },
  {
   "cell_type": "markdown",
   "metadata": {},
   "source": []
  },
  {
   "cell_type": "code",
   "execution_count": null,
   "metadata": {},
   "outputs": [],
   "source": []
  }
 ],
 "metadata": {
  "kernelspec": {
   "display_name": ".venv",
   "language": "python",
   "name": "python3"
  },
  "language_info": {
   "codemirror_mode": {
    "name": "ipython",
    "version": 3
   },
   "file_extension": ".py",
   "mimetype": "text/x-python",
   "name": "python",
   "nbconvert_exporter": "python",
   "pygments_lexer": "ipython3",
   "version": "3.10.10"
  }
 },
 "nbformat": 4,
 "nbformat_minor": 2
}
